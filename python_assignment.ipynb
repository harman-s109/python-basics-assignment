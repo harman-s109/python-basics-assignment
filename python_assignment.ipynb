{
  "nbformat": 4,
  "nbformat_minor": 0,
  "metadata": {
    "colab": {
      "provenance": []
    },
    "kernelspec": {
      "name": "python3",
      "display_name": "Python 3"
    },
    "language_info": {
      "name": "python"
    }
  },
  "cells": [
    {
      "cell_type": "code",
      "source": [
        "L = [11,12,13,14]\n",
        "print(\"Sorted descending:\", sorted(L, reverse=True))\n",
        "\n",
        "# (v)\n",
        "print(\"Is 13 in L?\", 13 in L)\n",
        "\n",
        "# (vi)\n",
        "print(\"Number of elements:\", len(L))\n",
        "\n",
        "# (vii)\n",
        "print(\"Sum of elements:\", sum(L))\n",
        "\n",
        "# (viii)\n",
        "print(\"Sum of odd numbers:\", sum(x for x in L if x % 2 != 0))\n",
        "\n",
        "# (ix)\n",
        "print(\"Sum of even numbers:\", sum(x for x in L if x % 2 == 0))\n",
        "\n",
        "# (x)\n",
        "def is_prime(n):\n",
        "    return n > 1 and all(n % i != 0 for i in range(2, int(n**0.5)+1))\n",
        "\n",
        "print(\"Sum of prime numbers:\", sum(x for x in L if is_prime(x)))\n",
        "\n",
        "# (xi)\n",
        "L.clear()\n",
        "print(\"After clearing:\", L)\n",
        "\n",
        "# (xii)\n",
        "del L\n",
        "\n",
        "# print(L)  # This would give an error"
      ],
      "metadata": {
        "colab": {
          "base_uri": "https://localhost:8080/"
        },
        "id": "deNXz0Bx8Y58",
        "outputId": "31bc15b8-7d6b-45f3-e654-f2fae7a04bd5"
      },
      "execution_count": null,
      "outputs": [
        {
          "output_type": "stream",
          "name": "stdout",
          "text": [
            "Sorted descending: [14, 13, 12, 11]\n",
            "Is 13 in L? True\n",
            "Number of elements: 4\n",
            "Sum of elements: 50\n",
            "Sum of odd numbers: 24\n",
            "Sum of even numbers: 26\n",
            "Sum of prime numbers: 24\n",
            "After clearing: []\n"
          ]
        }
      ]
    },
    {
      "cell_type": "code",
      "source": [
        "D = {1:5.6, 2:7.8, 3:6.6, 4:8.7, 5:7.7}\n",
        "\n",
        "# (i)\n",
        "D[8] = 8.8\n",
        "\n",
        "# (ii)\n",
        "D.pop(2)\n",
        "\n",
        "# (iii)\n",
        "print(\"Is key 6 present?\", 6 in D)\n",
        "\n",
        "# (iv)\n",
        "print(\"Number of elements:\", len(D))\n",
        "\n",
        "# (v)\n",
        "print(\"Sum of values:\", sum(D.values()))\n",
        "\n",
        "# (vi)\n",
        "D[3] = 7.1\n",
        "\n",
        "# (vii)\n",
        "D.clear()\n",
        "print(\"After clearing:\", D)"
      ],
      "metadata": {
        "colab": {
          "base_uri": "https://localhost:8080/"
        },
        "id": "UxmjwWRi82w3",
        "outputId": "2698b385-eebc-4644-de9d-2b006e6fa49c"
      },
      "execution_count": null,
      "outputs": [
        {
          "output_type": "stream",
          "name": "stdout",
          "text": [
            "Is key 6 present? False\n",
            "Number of elements: 5\n",
            "Sum of values: 37.4\n",
            "After clearing: {}\n"
          ]
        }
      ]
    },
    {
      "cell_type": "code",
      "source": [
        "S1 = set([10, 20, 30, 40, 50, 60])\n",
        "S2 = set([40, 50, 60, 70, 80, 90])\n",
        "\n",
        "# (i)\n",
        "S1.update([55, 66])\n",
        "\n",
        "# (ii)\n",
        "S1.discard(10)\n",
        "S1.discard(30)\n",
        "\n",
        "# (iii)\n",
        "print(\"Is 40 present in S1?\", 40 in S1)\n",
        "\n",
        "# (iv)\n",
        "print(\"Union:\", S1.union(S2))\n",
        "\n",
        "# (v)\n",
        "print(\"Intersection:\", S1.intersection(S2))\n",
        "\n",
        "# (vi)\n",
        "print(\"S1 - S2:\", S1.difference(S2))"
      ],
      "metadata": {
        "colab": {
          "base_uri": "https://localhost:8080/"
        },
        "id": "UG5BbBYI89j8",
        "outputId": "cd6a18b4-75d5-4abc-a098-2a2e8949be07"
      },
      "execution_count": null,
      "outputs": [
        {
          "output_type": "stream",
          "name": "stdout",
          "text": [
            "Is 40 present in S1? True\n",
            "Union: {66, 70, 40, 80, 50, 20, 55, 90, 60}\n",
            "Intersection: {40, 50, 60}\n",
            "S1 - S2: {66, 20, 55}\n"
          ]
        }
      ]
    },
    {
      "cell_type": "code",
      "source": [
        "import random\n",
        "import string\n",
        "\n",
        "# (i)\n",
        "for _ in range(100):\n",
        "    length = random.randint(6, 8)\n",
        "    print(''.join(random.choices(string.ascii_letters, k=length)))\n",
        "\n",
        "# (ii)\n",
        "for num in range(600, 801):\n",
        "    if is_prime(num):\n",
        "        print(num)\n",
        "\n",
        "# (iii)\n",
        "for num in range(100, 1001):\n",
        "    if num % 7 == 0 and num % 9 == 0:\n",
        "        print(num)"
      ],
      "metadata": {
        "colab": {
          "base_uri": "https://localhost:8080/"
        },
        "id": "u5U7tXCR9Frq",
        "outputId": "ee5afb3b-3b27-4924-9a72-e1dc53cc8e94"
      },
      "execution_count": null,
      "outputs": [
        {
          "output_type": "stream",
          "name": "stdout",
          "text": [
            "dmQYgjZh\n",
            "towIlHne\n",
            "DoPaISWw\n",
            "vjoFmfO\n",
            "JIgkDH\n",
            "gsoQRRWW\n",
            "DjbdBu\n",
            "BQXbdsP\n",
            "mThApjkx\n",
            "UpjKEh\n",
            "YBvSzQ\n",
            "ZGlkFor\n",
            "KlProt\n",
            "beAJvRf\n",
            "XiFwPYW\n",
            "UaSuZixC\n",
            "lSeGjDz\n",
            "ZZTcWhAi\n",
            "UTXPxNSZ\n",
            "bykrCif\n",
            "EANcJTE\n",
            "OExwLqh\n",
            "dKUzlSc\n",
            "iNeGOill\n",
            "ncjVlh\n",
            "MkDnsMvF\n",
            "IyQIFPyd\n",
            "shXHnsQ\n",
            "UbaEBZ\n",
            "JvIdAXfz\n",
            "AJeyigr\n",
            "IPHoLM\n",
            "EgLmop\n",
            "nEIPvpE\n",
            "bbvJJVtV\n",
            "RfRupH\n",
            "cYRask\n",
            "ZTFcOOe\n",
            "kbJhgD\n",
            "dERrFi\n",
            "eoPvgU\n",
            "sTglpWl\n",
            "mRFxpIEV\n",
            "XCJUjswk\n",
            "EWnaTUS\n",
            "EpHUnbo\n",
            "cBhRDyv\n",
            "vuKSKLub\n",
            "tpQAGhX\n",
            "wXrXuIh\n",
            "iVVXMp\n",
            "GZHhXEI\n",
            "GurYwAR\n",
            "xCCtgKR\n",
            "BJrJzy\n",
            "SrVBZF\n",
            "hqdzKHcX\n",
            "UcoHNn\n",
            "oZrukr\n",
            "FKMjES\n",
            "VRANcBuk\n",
            "SDwkPE\n",
            "FmfnsAgv\n",
            "fMBAiS\n",
            "kuEXHiXs\n",
            "eIdXGW\n",
            "nXioCLE\n",
            "RBfEHh\n",
            "BMDgPBD\n",
            "mrnFxhm\n",
            "YPNjHvjF\n",
            "dVCNHXVx\n",
            "RLgsUAo\n",
            "QlpQFFs\n",
            "ytxNLU\n",
            "kLnXcXG\n",
            "gFKueAi\n",
            "GVaQdz\n",
            "IPGGGO\n",
            "iiKjVdSw\n",
            "DDTeCn\n",
            "ZeUMLBgb\n",
            "SqyzeAqL\n",
            "yxRtaPMa\n",
            "MlxEbCP\n",
            "vbnMuDH\n",
            "XcIGQt\n",
            "ZeZyit\n",
            "ogOMZV\n",
            "XGuSvGGQ\n",
            "cgTTGFUB\n",
            "IBmqQM\n",
            "QrylRXkS\n",
            "HWcwBlX\n",
            "BGvhQn\n",
            "qWPElz\n",
            "VAClrt\n",
            "DvUhwWp\n",
            "sluyYtMi\n",
            "LqCHHDUe\n",
            "601\n",
            "607\n",
            "613\n",
            "617\n",
            "619\n",
            "631\n",
            "641\n",
            "643\n",
            "647\n",
            "653\n",
            "659\n",
            "661\n",
            "673\n",
            "677\n",
            "683\n",
            "691\n",
            "701\n",
            "709\n",
            "719\n",
            "727\n",
            "733\n",
            "739\n",
            "743\n",
            "751\n",
            "757\n",
            "761\n",
            "769\n",
            "773\n",
            "787\n",
            "797\n",
            "126\n",
            "189\n",
            "252\n",
            "315\n",
            "378\n",
            "441\n",
            "504\n",
            "567\n",
            "630\n",
            "693\n",
            "756\n",
            "819\n",
            "882\n",
            "945\n"
          ]
        }
      ]
    },
    {
      "cell_type": "code",
      "source": [
        "list1 = [random.randint(10, 30) for _ in range(10)]\n",
        "list2 = [random.randint(10, 30) for _ in range(10)]\n",
        "\n",
        "print(\"Common:\", set(list1) & set(list2))\n",
        "print(\"Unique:\", set(list1) ^ set(list2))\n",
        "print(\"Min:\", min(list1), min(list2))\n",
        "print(\"Max:\", max(list1), max(list2))\n",
        "print(\"Sum:\", sum(list1), sum(list2))"
      ],
      "metadata": {
        "colab": {
          "base_uri": "https://localhost:8080/"
        },
        "id": "cgFfILUo9PlS",
        "outputId": "160b35cc-bae6-44ed-d8dc-99d954ccae0b"
      },
      "execution_count": null,
      "outputs": [
        {
          "output_type": "stream",
          "name": "stdout",
          "text": [
            "Common: {29, 20, 13, 22}\n",
            "Unique: {16, 18, 19, 21, 25, 26, 28, 30}\n",
            "Min: 13 13\n",
            "Max: 29 30\n",
            "Sum: 232 207\n"
          ]
        }
      ]
    },
    {
      "cell_type": "code",
      "source": [
        "nums = [random.randint(100, 900) for _ in range(100)]\n",
        "print(\"Odd count:\", sum(1 for x in nums if x % 2 != 0))\n",
        "print(\"Even count:\", sum(1 for x in nums if x % 2 == 0))\n",
        "print(\"Prime count:\", sum(1 for x in nums if is_prime(x)))"
      ],
      "metadata": {
        "colab": {
          "base_uri": "https://localhost:8080/"
        },
        "id": "zUhw-spz9Xk5",
        "outputId": "9625b84d-1306-4895-8e17-381e3b4e9024"
      },
      "execution_count": null,
      "outputs": [
        {
          "output_type": "stream",
          "name": "stdout",
          "text": [
            "Odd count: 54\n",
            "Even count: 46\n",
            "Prime count: 14\n"
          ]
        }
      ]
    },
    {
      "cell_type": "code",
      "source": [
        "D = {1:\"One\",2:\"Two\",3:\"Three\",4:\"Four\",5:\"Five\"}\n",
        "with open(\"dict_output.txt\", \"w\") as f:\n",
        "    for k, v in D.items():\n",
        "        f.write(f\"{k}, {v}\\n\")"
      ],
      "metadata": {
        "id": "YRyCzJJ99bTm"
      },
      "execution_count": null,
      "outputs": []
    },
    {
      "cell_type": "code",
      "source": [
        "L = [\"One\",\"Two\",\"Three\",\"Four\",\"Five\"]\n",
        "with open(\"lengths.txt\", \"w\") as f:\n",
        "    for word in L:\n",
        "        f.write(f\"{word}, {len(word)}\\n\")"
      ],
      "metadata": {
        "id": "YYSkIdgx9lXd"
      },
      "execution_count": null,
      "outputs": []
    },
    {
      "cell_type": "code",
      "source": [
        "with open(\"primes_600_800.txt\", \"w\") as f:\n",
        "    for num in range(600, 801):\n",
        "        if is_prime(num):\n",
        "            f.write(f\"{num}\\n\")\n"
      ],
      "metadata": {
        "id": "7HRQLqD-93vK"
      },
      "execution_count": null,
      "outputs": []
    },
    {
      "cell_type": "code",
      "source": [
        "with open(\"random_strings.txt\", \"w\") as f:\n",
        "    for _ in range(100):\n",
        "        length = random.randint(10, 15)\n",
        "        f.write(''.join(random.choices(string.ascii_letters, k=length)) + \"\\n\")\n"
      ],
      "metadata": {
        "id": "JOLnewZB9pIP"
      },
      "execution_count": null,
      "outputs": []
    },
    {
      "cell_type": "code",
      "source": [
        "import matplotlib.pyplot as plt\n",
        "import time\n",
        "\n",
        "sizes = [5000, 10000, 15000, 20000, 25000]\n",
        "times = []\n",
        "\n",
        "for size in sizes:\n",
        "    lst = [random.randint(0, 100000) for _ in range(size)]\n",
        "    start = time.time()\n",
        "    lst.sort()\n",
        "    end = time.time()\n",
        "    times.append(end - start)\n",
        "\n",
        "for s, t in zip(sizes, times):\n",
        "    print(f\"{s} elements: {t:.4f} seconds\")\n",
        "\n",
        "plt.plot(sizes, times, marker='o')\n",
        "plt.xlabel(\"Number of Elements\")\n",
        "plt.ylabel(\"Time Taken (seconds)\")\n",
        "plt.title(\"List Sorting Time\")\n",
        "plt.grid(True)\n",
        "plt.show()"
      ],
      "metadata": {
        "colab": {
          "base_uri": "https://localhost:8080/",
          "height": 559
        },
        "id": "op6vSABZ96Iu",
        "outputId": "0d8c8828-ecfe-4d2e-a6a6-de4ceeea51a6"
      },
      "execution_count": null,
      "outputs": [
        {
          "output_type": "stream",
          "name": "stdout",
          "text": [
            "5000 elements: 0.0008 seconds\n",
            "10000 elements: 0.0017 seconds\n",
            "15000 elements: 0.0027 seconds\n",
            "20000 elements: 0.0037 seconds\n",
            "25000 elements: 0.0051 seconds\n"
          ]
        },
        {
          "output_type": "display_data",
          "data": {
            "text/plain": [
              "<Figure size 640x480 with 1 Axes>"
            ],
            "image/png": "[encoded data removed]"
          },
          "metadata": {}
        }
      ]
    },
    {
      "cell_type": "code",
      "source": [
        "students = {\n",
        "    \"A\": [80, 70, 90, 85, 75],\n",
        "    \"B\": [60, 65, 70, 55, 60],\n",
        "    \"C\": [90, 85, 95, 92, 88]\n",
        "}\n",
        "\n",
        "averages = {name: sum(marks)/len(marks) for name, marks in students.items()}\n",
        "max_student = max(averages, key=averages.get)\n",
        "min_student = min(averages, key=averages.get)\n",
        "\n",
        "print(\"Max average:\", max_student, averages[max_student])\n",
        "print(\"Min average:\", min_student, averages[min_student])"
      ],
      "metadata": {
        "colab": {
          "base_uri": "https://localhost:8080/"
        },
        "id": "bG6G4q3j-JLY",
        "outputId": "d5b7b610-b5bd-41cb-d98b-9387a562ba3e"
      },
      "execution_count": null,
      "outputs": [
        {
          "output_type": "stream",
          "name": "stdout",
          "text": [
            "Max average: C 90.0\n",
            "Min average: B 62.0\n"
          ]
        }
      ]
    }
  ]
}
